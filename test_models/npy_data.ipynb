{
  "cells": [
    {
      "cell_type": "code",
      "execution_count": null,
      "metadata": {
        "id": "C7_hcJEuyznl"
      },
      "outputs": [],
      "source": [
        "from PIL import Image\n",
        "from glob import glob \n",
        "import os\n",
        "import numpy as np\n",
        "from tqdm import tqdm\n",
        "\n",
        "def img_resize(path_dir, size):\n",
        "  X = []\n",
        "  y = []\n",
        "  for path in tqdm(glob(path_dir+'/*/*')):\n",
        "    img = Image.open(path)\n",
        "    img = img.convert(\"RGB\")\n",
        "    img = img.resize(size)\n",
        "    data = np.asarray(img)\n",
        "    X.append(data)\n",
        "\n",
        "    label = path.split('/')[-2]\n",
        "    if label=='NORMAL':\n",
        "      y.append(0)\n",
        "    else:\n",
        "      y.append(1)\n",
        "\n",
        "  X = np.array(X)\n",
        "  y = np.array(y)\n",
        "  return X, y"
      ]
    },
    {
      "cell_type": "code",
      "execution_count": null,
      "metadata": {
        "colab": {
          "base_uri": "https://localhost:8080/"
        },
        "id": "jBgpQ7Qk4uQv",
        "outputId": "9a6de5a3-f45c-427f-cfcb-aa04da2c54c5"
      },
      "outputs": [
        {
          "name": "stderr",
          "output_type": "stream",
          "text": [
            "100%|██████████| 5216/5216 [32:45<00:00,  2.65it/s]\n",
            "100%|██████████| 16/16 [00:08<00:00,  1.99it/s]\n",
            "100%|██████████| 624/624 [03:15<00:00,  3.19it/s]\n",
            "/usr/local/lib/python3.7/dist-packages/numpy/core/_asarray.py:136: VisibleDeprecationWarning: Creating an ndarray from ragged nested sequences (which is a list-or-tuple of lists-or-tuples-or ndarrays with different lengths or shapes) is deprecated. If you meant to do this, you must specify 'dtype=object' when creating the ndarray\n",
            "  return array(a, dtype, copy=False, order=order, subok=True)\n"
          ]
        }
      ],
      "source": [
        "base_dir = os.path.join(\"./chest_xray\")\n",
        "train_dir = os.path.join(base_dir + \"/train/\")\n",
        "validation_dir = os.path.join(base_dir + \"/val/\")\n",
        "test_dir = os.path.join(base_dir + \"/test/\")\n",
        "\n",
        "IMG_SHAPE = (224,224)\n",
        "\n",
        "X_train, y_train = img_resize(train_dir, IMG_SHAPE)\n",
        "X_val, y_val = img_resize(validation_dir, IMG_SHAPE)\n",
        "X_test, y_test = img_resize(test_dir, IMG_SHAPE)\n",
        "\n",
        "xy = (X_train, X_val, X_test, y_train, y_val, y_test)\n",
        "np.save(\"chest_xray_data_rgb.npy\", xy)"
      ]
    },
    {
      "cell_type": "code",
      "execution_count": null,
      "metadata": {
        "colab": {
          "base_uri": "https://localhost:8080/"
        },
        "id": "E_pK2knWD_7-",
        "outputId": "5d08e4db-ffa1-41de-bfb3-bc3a7f0af67b"
      },
      "outputs": [
        {
          "data": {
            "text/plain": [
              "(5216, 224, 224, 3)"
            ]
          },
          "execution_count": 4,
          "metadata": {},
          "output_type": "execute_result"
        }
      ],
      "source": [
        "a= np.load(\"chest_xray_data_rgb.npy\", allow_pickle=True)\n",
        "a[0].shape"
      ]
    }
  ],
  "metadata": {
    "colab": {
      "collapsed_sections": [],
      "name": "npy저장.ipynb",
      "provenance": []
    },
    "kernelspec": {
      "display_name": "Python 3",
      "name": "python3"
    },
    "language_info": {
      "name": "python"
    }
  },
  "nbformat": 4,
  "nbformat_minor": 0
}
