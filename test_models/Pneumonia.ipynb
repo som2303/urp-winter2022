{
  "nbformat": 4,
  "nbformat_minor": 0,
  "metadata": {
    "colab": {
      "name": "Pneumonia.ipynb",
      "provenance": []
    },
    "kernelspec": {
      "name": "python3",
      "display_name": "Python 3"
    },
    "language_info": {
      "name": "python"
    }
  },
  "cells": [
    {
      "cell_type": "code",
      "execution_count": null,
      "metadata": {
        "colab": {
          "base_uri": "https://localhost:8080/"
        },
        "id": "svqIP6f-gRpU",
        "outputId": "b8848de4-1cdb-449a-ef2a-f432bd22052f"
      },
      "outputs": [
        {
          "output_type": "stream",
          "name": "stdout",
          "text": [
            "Mounted at /content/drive\n"
          ]
        }
      ],
      "source": [
        "from google.colab import drive\n",
        "drive.mount('/content/drive')"
      ]
    },
    {
      "cell_type": "code",
      "source": [
        "cd /content/drive/Shareddrives/2022동계우수학부생_DSAIL"
      ],
      "metadata": {
        "colab": {
          "base_uri": "https://localhost:8080/"
        },
        "id": "KI2DCaA9gVrB",
        "outputId": "c312dfa6-cfed-4b29-b64e-841daab5f3dd"
      },
      "execution_count": null,
      "outputs": [
        {
          "output_type": "stream",
          "name": "stdout",
          "text": [
            "/content/drive/Shareddrives/2022동계우수학부생_DSAIL\n"
          ]
        }
      ]
    },
    {
      "cell_type": "code",
      "source": [
        "!unzip -qq \"/content/drive/Shareddrives/2022동계우수학부생_DSAIL/Pneumonia.zip\""
      ],
      "metadata": {
        "id": "Cwny-jq-gXSQ"
      },
      "execution_count": null,
      "outputs": []
    },
    {
      "cell_type": "code",
      "source": [
        "import numpy as np\n",
        "import pandas as pd\n",
        "import os"
      ],
      "metadata": {
        "id": "8qtgJGZkgYuk"
      },
      "execution_count": null,
      "outputs": []
    },
    {
      "cell_type": "code",
      "source": [
        "import tensorflow as tf\n",
        "tf.__version__"
      ],
      "metadata": {
        "colab": {
          "base_uri": "https://localhost:8080/",
          "height": 36
        },
        "id": "-Zz8ZIiJgaO6",
        "outputId": "8868d834-d816-449c-cad2-daf0bec8f9a6"
      },
      "execution_count": null,
      "outputs": [
        {
          "output_type": "execute_result",
          "data": {
            "application/vnd.google.colaboratory.intrinsic+json": {
              "type": "string"
            },
            "text/plain": [
              "'2.7.0'"
            ]
          },
          "metadata": {},
          "execution_count": 6
        }
      ]
    },
    {
      "cell_type": "code",
      "source": [
        "base_dir = os.path.join(\"/content/drive/Shareddrives/2022동계우수학부생_DSAIL/chest_xray\")\n",
        "print('Base directory --> ', os.listdir(base_dir))"
      ],
      "metadata": {
        "colab": {
          "base_uri": "https://localhost:8080/"
        },
        "id": "FDPccZpxgfio",
        "outputId": "f87324b7-a547-4c78-961f-ee49d013dabb"
      },
      "execution_count": null,
      "outputs": [
        {
          "output_type": "stream",
          "name": "stdout",
          "text": [
            "Base directory -->  ['__MACOSX', 'chest_xray', 'test', 'train', 'val']\n"
          ]
        }
      ]
    },
    {
      "cell_type": "code",
      "source": [
        "train_dir = os.path.join(base_dir + \"/train/\")\n",
        "print(\"Train Directory --> \", os.listdir(train_dir))\n",
        "\n",
        "validation_dir = os.path.join(base_dir + \"/val/\")\n",
        "print(\"Validation Directory --> \", os.listdir(validation_dir))\n",
        "\n",
        "test_dir = os.path.join(base_dir + \"/test/\")\n",
        "print(\"Test Directory --> \", os.listdir(test_dir))"
      ],
      "metadata": {
        "colab": {
          "base_uri": "https://localhost:8080/"
        },
        "id": "tQLBG09NqV3d",
        "outputId": "4af63796-f56a-49ff-a9c9-e3164bc02a5d"
      },
      "execution_count": null,
      "outputs": [
        {
          "output_type": "stream",
          "name": "stdout",
          "text": [
            "Train Directory -->  ['NORMAL', 'PNEUMONIA']\n",
            "Validation Directory -->  ['NORMAL', 'PNEUMONIA']\n",
            "Test Directory -->  ['NORMAL', 'PNEUMONIA']\n"
          ]
        }
      ]
    },
    {
      "cell_type": "code",
      "source": [
        "#label 지정하기 \n",
        "\n",
        "label_names = sorted(set(item for item in os.listdir(test_dir)))\n",
        "label_to_index = dict((name, index) for index,name in enumerate(label_names))\n",
        "label_to_index"
      ],
      "metadata": {
        "colab": {
          "base_uri": "https://localhost:8080/"
        },
        "id": "--EOIMkAqz2o",
        "outputId": "6ad379b4-139a-4b28-bb9d-47aec5f992d0"
      },
      "execution_count": null,
      "outputs": [
        {
          "output_type": "execute_result",
          "data": {
            "text/plain": [
              "{'NORMAL': 0, 'PNEUMONIA': 1}"
            ]
          },
          "metadata": {},
          "execution_count": 10
        }
      ]
    },
    {
      "cell_type": "code",
      "source": [
        "#데이터 구축하기\n",
        "from glob import glob \n",
        "import pathlib\n",
        "train_image=[]\n",
        "test_image =[]\n",
        "val_image=[]\n",
        "\n",
        "train_label=[]\n",
        "test_label =[]\n",
        "val_label=[]\n",
        "\n",
        "for path in glob(train_dir+'/*/*'):\n",
        "  train_image.append(path)\n",
        "  #print(pathlib.Path(path).parent.name)\n",
        "  train_label.append(label_to_index[path.split('/')[-2]])\n",
        "\n",
        "\n",
        "for path in glob(test_dir+'/*/*'):\n",
        "  test_image.append(path)\n",
        "  #print(pathlib.Path(path).parent.name)\n",
        "  test_label.append(label_to_index[path.split('/')[-2]])\n",
        "\n",
        "for path in glob(test_dir+'/*/*'):\n",
        "  val_image.append(path)\n",
        "  #print(pathlib.Path(path).parent.name)\n",
        "  val_label.append(label_to_index[path.split('/')[-2]])"
      ],
      "metadata": {
        "id": "obE340pBqd4c"
      },
      "execution_count": null,
      "outputs": []
    },
    {
      "cell_type": "code",
      "source": [
        "train_image[:5]"
      ],
      "metadata": {
        "colab": {
          "base_uri": "https://localhost:8080/"
        },
        "id": "mt8mbg1Lq4xV",
        "outputId": "b07d7dfd-464f-483a-f365-b8aca756b012"
      },
      "execution_count": null,
      "outputs": [
        {
          "output_type": "execute_result",
          "data": {
            "text/plain": [
              "['/content/drive/Shareddrives/2022동계우수학부생_DSAIL/chest_xray/train/NORMAL/IM-0115-0001.jpeg',\n",
              " '/content/drive/Shareddrives/2022동계우수학부생_DSAIL/chest_xray/train/NORMAL/IM-0117-0001.jpeg',\n",
              " '/content/drive/Shareddrives/2022동계우수학부생_DSAIL/chest_xray/train/NORMAL/IM-0119-0001.jpeg',\n",
              " '/content/drive/Shareddrives/2022동계우수학부생_DSAIL/chest_xray/train/NORMAL/IM-0122-0001.jpeg',\n",
              " '/content/drive/Shareddrives/2022동계우수학부생_DSAIL/chest_xray/train/NORMAL/IM-0125-0001.jpeg']"
            ]
          },
          "metadata": {},
          "execution_count": 13
        }
      ]
    },
    {
      "cell_type": "code",
      "source": [
        "test_image[:5]"
      ],
      "metadata": {
        "colab": {
          "base_uri": "https://localhost:8080/"
        },
        "id": "qxhdvp7Pq70M",
        "outputId": "519e00a7-42df-4280-e7aa-572d5186abef"
      },
      "execution_count": null,
      "outputs": [
        {
          "output_type": "execute_result",
          "data": {
            "text/plain": [
              "['/content/drive/Shareddrives/2022동계우수학부생_DSAIL/chest_xray/test/NORMAL/IM-0001-0001.jpeg',\n",
              " '/content/drive/Shareddrives/2022동계우수학부생_DSAIL/chest_xray/test/NORMAL/IM-0003-0001.jpeg',\n",
              " '/content/drive/Shareddrives/2022동계우수학부생_DSAIL/chest_xray/test/NORMAL/IM-0005-0001.jpeg',\n",
              " '/content/drive/Shareddrives/2022동계우수학부생_DSAIL/chest_xray/test/NORMAL/IM-0006-0001.jpeg',\n",
              " '/content/drive/Shareddrives/2022동계우수학부생_DSAIL/chest_xray/test/NORMAL/IM-0007-0001.jpeg']"
            ]
          },
          "metadata": {},
          "execution_count": 14
        }
      ]
    },
    {
      "cell_type": "code",
      "source": [
        "val_image[:5]"
      ],
      "metadata": {
        "colab": {
          "base_uri": "https://localhost:8080/"
        },
        "id": "8bpkQSgVq_oC",
        "outputId": "2ac32b4a-00ff-4f4d-de73-41ca15e4dfa4"
      },
      "execution_count": null,
      "outputs": [
        {
          "output_type": "execute_result",
          "data": {
            "text/plain": [
              "['/content/drive/Shareddrives/2022동계우수학부생_DSAIL/chest_xray/test/NORMAL/IM-0001-0001.jpeg',\n",
              " '/content/drive/Shareddrives/2022동계우수학부생_DSAIL/chest_xray/test/NORMAL/IM-0003-0001.jpeg',\n",
              " '/content/drive/Shareddrives/2022동계우수학부생_DSAIL/chest_xray/test/NORMAL/IM-0005-0001.jpeg',\n",
              " '/content/drive/Shareddrives/2022동계우수학부생_DSAIL/chest_xray/test/NORMAL/IM-0006-0001.jpeg',\n",
              " '/content/drive/Shareddrives/2022동계우수학부생_DSAIL/chest_xray/test/NORMAL/IM-0007-0001.jpeg']"
            ]
          },
          "metadata": {},
          "execution_count": 15
        }
      ]
    },
    {
      "cell_type": "code",
      "source": [
        "print(len(train_image))\n",
        "print(len(test_image))\n",
        "print(len(val_image))"
      ],
      "metadata": {
        "colab": {
          "base_uri": "https://localhost:8080/"
        },
        "id": "o3-Fg_0OrBGM",
        "outputId": "932e7a79-74ed-4beb-809a-36362224eb18"
      },
      "execution_count": null,
      "outputs": [
        {
          "output_type": "stream",
          "name": "stdout",
          "text": [
            "5216\n",
            "624\n",
            "624\n"
          ]
        }
      ]
    }
  ]
}