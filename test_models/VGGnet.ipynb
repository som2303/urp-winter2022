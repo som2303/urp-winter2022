{
  "cells": [
    {
      "cell_type": "code",
      "execution_count": null,
      "metadata": {
        "colab": {
          "base_uri": "https://localhost:8080/"
        },
        "id": "IZR9vifsi74z",
        "outputId": "8d162393-43f5-4177-9806-9a26b06d669f"
      },
      "outputs": [
        {
          "name": "stdout",
          "output_type": "stream",
          "text": [
            "Mounted at /content/drive\n"
          ]
        }
      ],
      "source": [
        "import numpy as np"
      ]
    },
    {
      "cell_type": "code",
      "execution_count": null,
      "metadata": {
        "id": "dqf0wUh0km-H"
      },
      "outputs": [],
      "source": [
        "import tensorflow as tf"
      ]
    },
    {
      "cell_type": "code",
      "execution_count": null,
      "metadata": {
        "id": "yKwKu_9TjEq0"
      },
      "outputs": [],
      "source": [
        "X_train, X_val, X_test, y_train, y_val, y_test= np.load(\"./chest_xray_data_rgb.npy\", allow_pickle=True)"
      ]
    },
    {
      "cell_type": "code",
      "execution_count": null,
      "metadata": {
        "colab": {
          "base_uri": "https://localhost:8080/"
        },
        "id": "yVkcQ5DGkfll",
        "outputId": "4f270e10-2fb3-42e0-d7aa-5199810ed777"
      },
      "outputs": [
        {
          "name": "stdout",
          "output_type": "stream",
          "text": [
            "Downloading data from https://storage.googleapis.com/tensorflow/keras-applications/vgg16/vgg16_weights_tf_dim_ordering_tf_kernels_notop.h5\n",
            "58892288/58889256 [==============================] - 0s 0us/step\n",
            "58900480/58889256 [==============================] - 0s 0us/step\n"
          ]
        }
      ],
      "source": [
        "model = tf.keras.applications.VGG16(\n",
        "    include_top=False,\n",
        "    weights=\"imagenet\",\n",
        "    input_shape=(224,224,3),\n",
        ")\n",
        "\n",
        "model.trainable=True"
      ]
    },
    {
      "cell_type": "code",
      "execution_count": null,
      "metadata": {
        "colab": {
          "base_uri": "https://localhost:8080/"
        },
        "id": "nJqS0hQdm9Gv",
        "outputId": "0b090eed-0f07-4190-9f38-8b852c3efe91"
      },
      "outputs": [
        {
          "name": "stdout",
          "output_type": "stream",
          "text": [
            "Model: \"vgg16\"\n",
            "_________________________________________________________________\n",
            " Layer (type)                Output Shape              Param #   \n",
            "=================================================================\n",
            " input_2 (InputLayer)        [(None, 224, 224, 3)]     0         \n",
            "                                                                 \n",
            " block1_conv1 (Conv2D)       (None, 224, 224, 64)      1792      \n",
            "                                                                 \n",
            " block1_conv2 (Conv2D)       (None, 224, 224, 64)      36928     \n",
            "                                                                 \n",
            " block1_pool (MaxPooling2D)  (None, 112, 112, 64)      0         \n",
            "                                                                 \n",
            " block2_conv1 (Conv2D)       (None, 112, 112, 128)     73856     \n",
            "                                                                 \n",
            " block2_conv2 (Conv2D)       (None, 112, 112, 128)     147584    \n",
            "                                                                 \n",
            " block2_pool (MaxPooling2D)  (None, 56, 56, 128)       0         \n",
            "                                                                 \n",
            " block3_conv1 (Conv2D)       (None, 56, 56, 256)       295168    \n",
            "                                                                 \n",
            " block3_conv2 (Conv2D)       (None, 56, 56, 256)       590080    \n",
            "                                                                 \n",
            " block3_conv3 (Conv2D)       (None, 56, 56, 256)       590080    \n",
            "                                                                 \n",
            " block3_pool (MaxPooling2D)  (None, 28, 28, 256)       0         \n",
            "                                                                 \n",
            " block4_conv1 (Conv2D)       (None, 28, 28, 512)       1180160   \n",
            "                                                                 \n",
            " block4_conv2 (Conv2D)       (None, 28, 28, 512)       2359808   \n",
            "                                                                 \n",
            " block4_conv3 (Conv2D)       (None, 28, 28, 512)       2359808   \n",
            "                                                                 \n",
            " block4_pool (MaxPooling2D)  (None, 14, 14, 512)       0         \n",
            "                                                                 \n",
            " block5_conv1 (Conv2D)       (None, 14, 14, 512)       2359808   \n",
            "                                                                 \n",
            " block5_conv2 (Conv2D)       (None, 14, 14, 512)       2359808   \n",
            "                                                                 \n",
            " block5_conv3 (Conv2D)       (None, 14, 14, 512)       2359808   \n",
            "                                                                 \n",
            " block5_pool (MaxPooling2D)  (None, 7, 7, 512)         0         \n",
            "                                                                 \n",
            "=================================================================\n",
            "Total params: 14,714,688\n",
            "Trainable params: 14,714,688\n",
            "Non-trainable params: 0\n",
            "_________________________________________________________________\n"
          ]
        }
      ],
      "source": [
        "model.summary()"
      ]
    },
    {
      "cell_type": "code",
      "execution_count": null,
      "metadata": {
        "id": "wrhVNC6ok-a-"
      },
      "outputs": [],
      "source": [
        "for layer in model.layers[:-4]:\n",
        "   layer.trainable = False"
      ]
    },
    {
      "cell_type": "code",
      "execution_count": null,
      "metadata": {
        "id": "90p-y-GGpPaU"
      },
      "outputs": [],
      "source": [
        "x = tf.keras.layers.GlobalAveragePooling2D()(model.output)\n",
        "x = tf.keras.layers.Flatten()(model.output)\n",
        "# x = tf.keras.layers.BatchNormalization()(x)\n",
        "\n",
        "x = tf.keras.layers.Dense(512, activation='relu')(x)\n",
        "x = tf.keras.layers.Dropout(0.5)(x)\n",
        "x = tf.keras.layers.Dense(1, activation='sigmoid')(x)\n",
        "\n",
        "models = tf.keras.models.Model(model.input, x)"
      ]
    },
    {
      "cell_type": "code",
      "execution_count": null,
      "metadata": {
        "colab": {
          "background_save": true,
          "base_uri": "https://localhost:8080/"
        },
        "id": "jwwFGVZJAeaP",
        "outputId": "4aca24db-962d-4094-e564-429a07e6d68c"
      },
      "outputs": [
        {
          "name": "stdout",
          "output_type": "stream",
          "text": [
            "Epoch 1/10\n",
            "163/163 [==============================] - 68s 304ms/step - loss: 1.5850 - accuracy: 0.7289 - val_loss: 0.7796 - val_accuracy: 0.5000\n",
            "Epoch 2/10\n",
            "163/163 [==============================] - 44s 272ms/step - loss: 0.5724 - accuracy: 0.7429 - val_loss: 0.8228 - val_accuracy: 0.5000\n",
            "Epoch 3/10\n",
            "163/163 [==============================] - 44s 272ms/step - loss: 0.5700 - accuracy: 0.7429 - val_loss: 0.8276 - val_accuracy: 0.5000\n",
            "Epoch 4/10\n",
            "163/163 [==============================] - 44s 272ms/step - loss: 0.5694 - accuracy: 0.7429 - val_loss: 0.8158 - val_accuracy: 0.5000\n",
            "Epoch 5/10\n",
            "163/163 [==============================] - 44s 272ms/step - loss: 0.5705 - accuracy: 0.7429 - val_loss: 0.8381 - val_accuracy: 0.5000\n",
            "Epoch 6/10\n",
            "163/163 [==============================] - 44s 272ms/step - loss: 0.5705 - accuracy: 0.7429 - val_loss: 0.8215 - val_accuracy: 0.5000\n",
            "Epoch 7/10\n",
            "163/163 [==============================] - 44s 272ms/step - loss: 0.5710 - accuracy: 0.7429 - val_loss: 0.8305 - val_accuracy: 0.5000\n",
            "Epoch 8/10\n",
            "163/163 [==============================] - 44s 272ms/step - loss: 0.5706 - accuracy: 0.7429 - val_loss: 0.8171 - val_accuracy: 0.5000\n",
            "Epoch 9/10\n",
            "163/163 [==============================] - 44s 272ms/step - loss: 0.5703 - accuracy: 0.7429 - val_loss: 0.8303 - val_accuracy: 0.5000\n",
            "Epoch 10/10\n",
            "163/163 [==============================] - 44s 272ms/step - loss: 0.5709 - accuracy: 0.7429 - val_loss: 0.8242 - val_accuracy: 0.5000\n",
            "20/20 [==============================] - 5s 228ms/step - loss: 0.6934 - accuracy: 0.6250\n",
            "[0.693385660648346, 0.625]\n"
          ]
        }
      ],
      "source": [
        "models.compile(optimizer='adam',loss='binary_crossentropy', metrics=['accuracy'])\n",
        "history = models.fit(X_train, y_train, epochs=10, batch_size=32, validation_data=(X_val, y_val))\n",
        "results = models.evaluate(X_test, y_test)\n",
        "print(results)"
      ]
    }
  ],
  "metadata": {
    "accelerator": "GPU",
    "colab": {
      "name": "VGGnet.ipynb",
      "provenance": []
    },
    "kernelspec": {
      "display_name": "Python 3",
      "name": "python3"
    },
    "language_info": {
      "name": "python"
    }
  },
  "nbformat": 4,
  "nbformat_minor": 0
}
