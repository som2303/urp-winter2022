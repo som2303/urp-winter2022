{
  "cells": [
    {
      "cell_type": "code",
      "execution_count": null,
      "metadata": {
        "id": "7nQsw5nxFEwd"
      },
      "outputs": [],
      "source": [
        "import tensorflow as tf\n",
        "import numpy as np"
      ]
    },
    {
      "cell_type": "code",
      "execution_count": null,
      "metadata": {
        "id": "T5mrtc_sFJQa"
      },
      "outputs": [],
      "source": [
        "X_train, X_val, X_test, y_train, y_val, y_test= np.load(\"./test_models/chest_xray_data_rgb.npy\", allow_pickle=True)"
      ]
    },
    {
      "cell_type": "code",
      "execution_count": null,
      "metadata": {
        "id": "ylPknVmrGRGx"
      },
      "outputs": [],
      "source": [
        "def pred(n):\n",
        "  model = tf.keras.models.load_model(\"./ResNet/model/resnet50_model\"+n+\".h5\")\n",
        "  y_pred = model.predict(X_test)\n",
        "  y_pred.reshape(624)\n",
        "  return y_pred"
      ]
    },
    {
      "cell_type": "code",
      "execution_count": null,
      "metadata": {
        "id": "baVM2iYHGqla"
      },
      "outputs": [],
      "source": [
        "pred1 = pred(\"1\")\n",
        "pred2 = pred(\"2\")\n",
        "pred3 = pred(\"3\")\n",
        "pred4 = pred(\"4\")\n",
        "pred5 = pred(\"5\")"
      ]
    },
    {
      "cell_type": "code",
      "execution_count": null,
      "metadata": {
        "id": "cy5bawAtG_pq"
      },
      "outputs": [],
      "source": [
        "pred_mean = (pred1+pred2+pred3+pred4+pred5)/5"
      ]
    },
    {
      "cell_type": "code",
      "execution_count": null,
      "metadata": {
        "colab": {
          "base_uri": "https://localhost:8080/"
        },
        "id": "39cc_1vmIbjt",
        "outputId": "5185a247-77f6-461c-b8ea-93584ead79e5"
      },
      "outputs": [
        {
          "data": {
            "text/plain": [
              "(624, 1)"
            ]
          },
          "execution_count": 11,
          "metadata": {},
          "output_type": "execute_result"
        }
      ],
      "source": [
        "pred_mean.shape"
      ]
    },
    {
      "cell_type": "code",
      "execution_count": null,
      "metadata": {
        "id": "rGtbkOAcHmlm"
      },
      "outputs": [],
      "source": [
        "last_pred = np.zeros(624)\n",
        "for i in range(len(pred_mean)):\n",
        "  if pred_mean[i] > 0.5:\n",
        "     last_pred[i]=1"
      ]
    },
    {
      "cell_type": "code",
      "execution_count": null,
      "metadata": {
        "colab": {
          "base_uri": "https://localhost:8080/"
        },
        "id": "Y_H20LKeIlbe",
        "outputId": "f72d3cd8-68ff-4f70-9ba6-6c6775a558cf"
      },
      "outputs": [
        {
          "name": "stdout",
          "output_type": "stream",
          "text": [
            "[[196  38]\n",
            " [  9 381]]\n",
            "              precision    recall  f1-score   support\n",
            "\n",
            "      NORMAL       0.96      0.84      0.89       234\n",
            "   PNEUMONIA       0.91      0.98      0.94       390\n",
            "\n",
            "    accuracy                           0.92       624\n",
            "   macro avg       0.93      0.91      0.92       624\n",
            "weighted avg       0.93      0.92      0.92       624\n",
            "\n"
          ]
        }
      ],
      "source": [
        "from sklearn.metrics import classification_report, confusion_matrix\n",
        "target_names = ['NORMAL', 'PNEUMONIA']\n",
        "print(confusion_matrix(y_test, last_pred))\n",
        "print(classification_report(y_test, last_pred, target_names=target_names))\n",
        "\n",
        "with open(\"./bagging_result.txt\", \"w\") as text_file: \n",
        "  print(classification_report(y_test, last_pred, target_names=target_names), file=text_file)"
      ]
    }
  ],
  "metadata": {
    "accelerator": "GPU",
    "colab": {
      "name": "bagging.ipynb",
      "provenance": []
    },
    "kernelspec": {
      "display_name": "Python 3",
      "name": "python3"
    },
    "language_info": {
      "name": "python"
    }
  },
  "nbformat": 4,
  "nbformat_minor": 0
}
