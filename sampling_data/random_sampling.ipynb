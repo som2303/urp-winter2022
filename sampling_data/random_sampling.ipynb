{
  "cells": [
    {
      "cell_type": "code",
      "execution_count": null,
      "metadata": {
        "id": "F25OW_sUnTHK"
      },
      "outputs": [],
      "source": [
        "import numpy as np"
      ]
    },
    {
      "cell_type": "code",
      "execution_count": null,
      "metadata": {
        "id": "6OtduqmIor2Y"
      },
      "outputs": [],
      "source": [
        "X_train, X_val, X_test, y_train, y_val, y_test= np.load(\"../test_models/chest_xray_data_rgb.npy\", allow_pickle=True)"
      ]
    },
    {
      "cell_type": "code",
      "execution_count": null,
      "metadata": {
        "id": "SV5iI52RwGWa"
      },
      "outputs": [],
      "source": [
        "def sampling(x, y, seed, rate):\n",
        "  n = int(x.shape[0]*rate)\n",
        "  np.random.seed(seed)\n",
        "  item = np.random.randint(x.shape[0], size=n)\n",
        "  x_result = x[item, :]\n",
        "  y_result = y[item]\n",
        "  return x_result, y_result"
      ]
    },
    {
      "cell_type": "code",
      "execution_count": null,
      "metadata": {},
      "outputs": [],
      "source": [
        "x_1, y_1 = sampling(X_train, y_train,1,0.75)\n",
        "x_2, y_2 = sampling(X_train, y_train,12,0.75)\n",
        "x_3, y_3 = sampling(X_train, y_train,23,0.75)\n",
        "x_4, y_4 = sampling(X_train, y_train,34,0.75)\n",
        "x_5, y_5 = sampling(X_train, y_train,45,0.75)"
      ]
    },
    {
      "cell_type": "code",
      "execution_count": null,
      "metadata": {},
      "outputs": [],
      "source": [
        "# augmentation 하기 전 데이터\n",
        "sampling_data_x = (x_1, x_2, x_3, x_4, x_5) # x데이터\n",
        "sampling_data_y = (y_1, y_2, y_3, y_4, y_5) # y데이터\n",
        "\n",
        "np.save(\"./random_sampling_x_75.npy\", sampling_data_x)\n",
        "np.save(\"./random_sampling_y_75.npy\", sampling_data_y)"
      ]
    },
    {
      "cell_type": "code",
      "execution_count": null,
      "metadata": {
        "id": "QzWaw7J81OSp"
      },
      "outputs": [],
      "source": [
        "x_1, y_1 = sampling(X_train, y_train,1,0.85)\n",
        "x_2, y_2 = sampling(X_train, y_train,12,0.85)\n",
        "x_3, y_3 = sampling(X_train, y_train,23,0.85)\n",
        "x_4, y_4 = sampling(X_train, y_train,34,0.85)\n",
        "x_5, y_5 = sampling(X_train, y_train,45,0.85)"
      ]
    },
    {
      "cell_type": "code",
      "execution_count": null,
      "metadata": {
        "id": "T3ObEXKY7CJd"
      },
      "outputs": [],
      "source": [
        "# augmentation 하기 전 데이터\n",
        "sampling_data_x = (x_1, x_2, x_3, x_4, x_5) # x데이터\n",
        "sampling_data_y = (y_1, y_2, y_3, y_4, y_5) # y데이터\n",
        "\n",
        "np.save(\"./random_sampling_x_85.npy\", sampling_data_x)\n",
        "np.save(\"./random_sampling_y_85.npy\", sampling_data_y)"
      ]
    }
  ],
  "metadata": {
    "colab": {
      "name": "random sampling.ipynb",
      "provenance": []
    },
    "kernelspec": {
      "display_name": "Python 3",
      "name": "python3"
    },
    "language_info": {
      "name": "python"
    }
  },
  "nbformat": 4,
  "nbformat_minor": 0
}
